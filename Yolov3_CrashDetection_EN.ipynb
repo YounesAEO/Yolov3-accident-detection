{
  "nbformat": 4,
  "nbformat_minor": 0,
  "metadata": {
    "colab": {
      "provenance": [],
      "collapsed_sections": [],
      "toc_visible": true
    },
    "kernelspec": {
      "name": "python3",
      "display_name": "Python 3"
    },
    "accelerator": "GPU"
  },
  "cells": [
    {
      "cell_type": "markdown",
      "metadata": {
        "id": "wQaH53afmrZC"
      },
      "source": [
        "# Train a crash detector on the cloud using YoloV3 and Darknet \n",
        "The current notebook gives a step by step guide to train an object detector using darknet framework and YoloV3 model. We'll make use of the GPU offered by Google Colab Platform to accelerate the training phase."
      ]
    },
    {
      "cell_type": "markdown",
      "metadata": {
        "id": "ngQsy2AT256U"
      },
      "source": [
        "# Step 1: Mount Darknet on the Cloud\n",
        "\n",
        "The following cells clone the darknet repository and modifies the config file Makefile to activate OpenCV which allows feeding video footage to the algorithm and accelerates the training phase of the model."
      ]
    },
    {
      "cell_type": "code",
      "metadata": {
        "id": "HCs4VQmESACk",
        "colab": {
          "base_uri": "https://localhost:8080/",
          "height": 136
        },
        "outputId": "17f2d870-2f02-4483-a8f5-53f17fb38e3a"
      },
      "source": [
        "# cloning darknet repo\n",
        "!git clone https://github.com/AlexeyAB/darknet"
      ],
      "execution_count": null,
      "outputs": [
        {
          "output_type": "stream",
          "text": [
            "Cloning into 'darknet'...\n",
            "remote: Enumerating objects: 8, done.\u001b[K\n",
            "remote: Counting objects: 100% (8/8), done.\u001b[K\n",
            "remote: Compressing objects: 100% (8/8), done.\u001b[K\n",
            "remote: Total 13567 (delta 1), reused 1 (delta 0), pack-reused 13559\u001b[K\n",
            "Receiving objects: 100% (13567/13567), 12.20 MiB | 11.74 MiB/s, done.\n",
            "Resolving deltas: 100% (9254/9254), done.\n"
          ],
          "name": "stdout"
        }
      ]
    },
    {
      "cell_type": "code",
      "metadata": {
        "id": "5H-Taj06Tw1c",
        "colab": {
          "base_uri": "https://localhost:8080/",
          "height": 34
        },
        "outputId": "ec4f33fe-a4a2-4168-90de-c2fe9cd66f95"
      },
      "source": [
        "# activate GPU and OpenCV\n",
        "%cd darknet\n",
        "!sed -i 's/OPENCV=0/OPENCV=1/' Makefile\n",
        "!sed -i 's/GPU=0/GPU=1/' Makefile\n",
        "!sed -i 's/CUDNN=0/CUDNN=1/' Makefile"
      ],
      "execution_count": null,
      "outputs": [
        {
          "output_type": "stream",
          "text": [
            "/content/darknet\n"
          ],
          "name": "stdout"
        }
      ]
    },
    {
      "cell_type": "code",
      "metadata": {
        "id": "aNv1UHwXZK57",
        "colab": {
          "base_uri": "https://localhost:8080/",
          "height": 85
        },
        "outputId": "21d01326-f81a-4d95-97af-23d1bfe6dbac"
      },
      "source": [
        "# verify CUDA version\n",
        "!/usr/local/cuda/bin/nvcc --version"
      ],
      "execution_count": null,
      "outputs": [
        {
          "output_type": "stream",
          "text": [
            "nvcc: NVIDIA (R) Cuda compiler driver\n",
            "Copyright (c) 2005-2019 NVIDIA Corporation\n",
            "Built on Sun_Jul_28_19:07:16_PDT_2019\n",
            "Cuda compilation tools, release 10.1, V10.1.243\n"
          ],
          "name": "stdout"
        }
      ]
    },
    {
      "cell_type": "code",
      "metadata": {
        "id": "3DWRrVatZZZg"
      },
      "source": [
        "# compile darknet\n",
        "!make"
      ],
      "execution_count": null,
      "outputs": []
    },
    {
      "cell_type": "markdown",
      "metadata": {
        "id": "47-d_3xy36U9"
      },
      "source": [
        "# Step 2: helper functions \n",
        "These function will be used later to simplify the training process and testing the model."
      ]
    },
    {
      "cell_type": "code",
      "metadata": {
        "id": "w4Pm0VoqmGia"
      },
      "source": [
        "#imShow function takes as input a path to an image and shows the image using matplotlib\n",
        "def imShow(path):\n",
        "  import cv2\n",
        "  import matplotlib.pyplot as plt\n",
        "  %matplotlib inline\n",
        "\n",
        "  image = cv2.imread(path)\n",
        "  height, width = image.shape[:2]\n",
        "  resized_image = cv2.resize(image,(3*width, 3*height), interpolation = cv2.INTER_CUBIC)\n",
        "\n",
        "  fig = plt.gcf()\n",
        "  fig.set_size_inches(18, 10)\n",
        "  plt.axis(\"off\")\n",
        "  plt.imshow(cv2.cvtColor(resized_image, cv2.COLOR_BGR2RGB))\n",
        "  plt.show()\n",
        "\n",
        "# function to upload files to google colab\n",
        "def upload():\n",
        "  from google.colab import files\n",
        "  uploaded = files.upload() \n",
        "  for name, data in uploaded.items():\n",
        "    with open(name, 'wb') as f:\n",
        "      f.write(data)\n",
        "      print ('saved file', name)\n",
        "\n",
        "# function to download files from google colab\n",
        "def download(path):\n",
        "  from google.colab import files\n",
        "  files.download(path)"
      ],
      "execution_count": null,
      "outputs": []
    },
    {
      "cell_type": "markdown",
      "metadata": {
        "id": "lO3e0mod4d-p"
      },
      "source": [
        "# Step 3 : Mount Google Drive on Google Colab\n",
        "Here we will connect our drive account to google colab in order to save the model checkpoints during training and the best weights after training as well as importing training data and any other useful files.\n"
      ]
    },
    {
      "cell_type": "code",
      "metadata": {
        "id": "j9lmJEnGEu-7",
        "colab": {
          "base_uri": "https://localhost:8080/",
          "height": 139
        },
        "outputId": "0b22e122-a3cc-44e5-ee79-2657d56833dc"
      },
      "source": [
        "%cd ..\n",
        "from google.colab import drive\n",
        "drive.mount('/content/gdrive')"
      ],
      "execution_count": null,
      "outputs": [
        {
          "output_type": "stream",
          "text": [
            "/content\n",
            "Go to this URL in a browser: https://accounts.google.com/o/oauth2/auth?client_id=947318989803-6bn6qk8qdgf4n4g3pfee6491hc0brc4i.apps.googleusercontent.com&redirect_uri=urn%3aietf%3awg%3aoauth%3a2.0%3aoob&response_type=code&scope=email%20https%3a%2f%2fwww.googleapis.com%2fauth%2fdocs.test%20https%3a%2f%2fwww.googleapis.com%2fauth%2fdrive%20https%3a%2f%2fwww.googleapis.com%2fauth%2fdrive.photos.readonly%20https%3a%2f%2fwww.googleapis.com%2fauth%2fpeopleapi.readonly\n",
            "\n",
            "Enter your authorization code:\n",
            "··········\n",
            "Mounted at /content/gdrive\n"
          ],
          "name": "stdout"
        }
      ]
    },
    {
      "cell_type": "code",
      "metadata": {
        "id": "yreDPcJdoo29"
      },
      "source": [
        "# create a sympolic link to remove spaces and simplify access to the drive folders (optional)\n",
        "!ln -s /content/gdrive/My\\ Drive/ /mydrive\n",
        "!ls /mydrive"
      ],
      "execution_count": null,
      "outputs": []
    },
    {
      "cell_type": "code",
      "metadata": {
        "id": "ucpOylJFWyfn",
        "colab": {
          "base_uri": "https://localhost:8080/",
          "height": 34
        },
        "outputId": "656e4109-c082-4a78-ec31-fde4d03ccc31"
      },
      "source": [
        "# darknet directory\n",
        "%cd darknet"
      ],
      "execution_count": null,
      "outputs": [
        {
          "output_type": "stream",
          "text": [
            "/content/darknet\n"
          ],
          "name": "stdout"
        }
      ]
    },
    {
      "cell_type": "code",
      "metadata": {
        "id": "G9ah8jzAlSA1"
      },
      "source": [
        "# Copier un fichier à partir du drive vers le répertoire darknet\n",
        "# Copy a pretrained model to accelerate learning\n",
        "#(see https://www.tensorflow.org/tutorials/images/transfer_learning) \n",
        "!cp /mydrive/yolov3/darknet53.conv.74  ../"
      ],
      "execution_count": null,
      "outputs": []
    },
    {
      "cell_type": "markdown",
      "metadata": {
        "id": "DWaLc6AZozBl"
      },
      "source": [
        "# Step 4: Create a dataset\n",
        "In order to train our model we'll need a dataset of images/videos related to the problem we're trying to solve. \n",
        "There two way to get a build dataset.\n",
        "- **Method 1:** Using an automation tool or script to download labelled images from datasets websites such as : ImageNet, Open Image Dataset, Kaggle...etc.\n",
        "- **Method 2:** Download and label manually the images using a tool called LabelImg.\n",
        "\n",
        "We'll be using the second method since our target dataset doesn't exist in such websites. "
      ]
    },
    {
      "cell_type": "markdown",
      "metadata": {
        "id": "Dye1-pgt4WS0"
      },
      "source": [
        "# Step 5: Move Dataset to google colab's current instance\n",
        "We'll zip our dataset and download it from the drive"
      ]
    },
    {
      "cell_type": "code",
      "metadata": {
        "id": "0_JRC13hK7Zr",
        "colab": {
          "base_uri": "https://localhost:8080/",
          "height": 51
        },
        "outputId": "f1097d70-1d82-47df-add2-0cd870abde22"
      },
      "source": [
        "\n",
        "!ls /mydrive/yolov3_crash"
      ],
      "execution_count": null,
      "outputs": [
        {
          "output_type": "stream",
          "text": [
            "backup\t\t   generate_train.py  obj.data\t yolov3_custom2.cfg\n",
            "darknet53.conv.74  obj2.zip\t      obj.names\n"
          ],
          "name": "stdout"
        }
      ]
    },
    {
      "cell_type": "code",
      "metadata": {
        "id": "YpljhMVHOx9X"
      },
      "source": [
        "# copy the zip file to the current directory of google colab's instance\n",
        "!cp /mydrive/yolov3_crash/obj2.zip ../"
      ],
      "execution_count": null,
      "outputs": []
    },
    {
      "cell_type": "code",
      "metadata": {
        "id": "45en565PPLce"
      },
      "source": [
        "# unzip the file\n",
        "!unzip ../obj2.zip -d data/"
      ],
      "execution_count": null,
      "outputs": []
    },
    {
      "cell_type": "markdown",
      "metadata": {
        "id": "bVst_Nyhkq0B"
      },
      "source": [
        "# Step 6: Edit config file of YoloV3\n",
        "Edit the following files .cfg, obj.data, obj.names and train.txt.\n",
        "\n",
        "## i) .cfg file\n",
        "We edit the .cfg file to adapt it to our needs and put it in darknet directory. "
      ]
    },
    {
      "cell_type": "code",
      "metadata": {
        "id": "FKGP15SmrXLe"
      },
      "source": [
        "!cp /mydrive/yolov3_crash/yolov3_custom2.cfg ./cfg\n"
      ],
      "execution_count": null,
      "outputs": []
    },
    {
      "cell_type": "markdown",
      "metadata": {
        "id": "JcSrw86FzgkO"
      },
      "source": [
        "## ii) obj.names and obj.data \n",
        "**obj.names** file contains the list of classes we're looking to detect using YoloV3. In our case we choose one perticular scenario which is car rollovers.\n",
        "\n",
        "**obj.data** file contains the total number of classes we're training our model on and file paths to obj.names and train.txt files. It also contains the path to backup files where we'll save our training progress and checkpoints."
      ]
    },
    {
      "cell_type": "code",
      "metadata": {
        "id": "qBmbHd7M16lK"
      },
      "source": [
        "# move files obj.names and obj.data from the drive to google colab's instance\n",
        "!cp /mydrive/yolov3_crash/obj.names ./data\n",
        "!cp /mydrive/yolov3_crash/obj.data  ./data"
      ],
      "execution_count": null,
      "outputs": []
    },
    {
      "cell_type": "markdown",
      "metadata": {
        "id": "AynO1huO4Kzd"
      },
      "source": [
        "## iii) Generate train.txt\n",
        "Ce fichier de configuration contient les chemins relatives de tous les images de notre dataset d'entrainement.\n",
        "train.txt file contains the relative paths to the images of our training dataset.\n",
        "We built a small python script to automate the creation of this file."
      ]
    },
    {
      "cell_type": "code",
      "metadata": {
        "id": "cKBeIp7V44nu"
      },
      "source": [
        "# move generate_train.py file to google colab\n",
        "!cp /mydrive/yolov3_crash/generate_train.py ./\n"
      ],
      "execution_count": null,
      "outputs": []
    },
    {
      "cell_type": "code",
      "metadata": {
        "id": "o4HBBgk3503F"
      },
      "source": [
        "!python generate_train.py"
      ],
      "execution_count": null,
      "outputs": []
    },
    {
      "cell_type": "code",
      "metadata": {
        "id": "CIFjMSlX6DfP"
      },
      "source": [
        "#verify that file was properly generated\n",
        "!ls data/\n",
        "!cat data/train.txt | sort -n"
      ],
      "execution_count": null,
      "outputs": []
    },
    {
      "cell_type": "markdown",
      "metadata": {
        "id": "VHw00Cro8ONr"
      },
      "source": [
        "# Step 7: Train !\n",
        "Now after finishing all configurations, the last step is to run the following darkent command\n",
        "```\n",
        "!./darknet detector train <path to obj.data> <path to cfg file> darknet53.conv.74 -dont_show\n",
        "```\n",
        "-dont show option stops the algorithme from showing the training chart, since it generates an error on colab.  "
      ]
    },
    {
      "cell_type": "code",
      "metadata": {
        "id": "IrT9LSjc8LMt"
      },
      "source": [
        "\n",
        "!./darknet detector train data/obj.data cfg/yolov3_custom2.cfg darknet53.conv.74 -map -dont_show"
      ],
      "execution_count": null,
      "outputs": []
    },
    {
      "cell_type": "markdown",
      "metadata": {
        "id": "N29uHgipYsY2"
      },
      "source": [
        "# Step 8: run the detection\n",
        "We can finally test our model on images, or download the best wieghts and test the model locally on videos or on a realtime webcam."
      ]
    },
    {
      "cell_type": "code",
      "metadata": {
        "id": "CzWTss9BZaDx"
      },
      "source": [
        "# switch the configuration file to test mode\n",
        "%cd cfg\n",
        "!sed -i 's/batch=64/batch=1/' yolov3_custom2.cfg\n",
        "!sed -i 's/subdivisions=16/subdivisions=1/' yolov3_custom2.cfg\n",
        "%cd ..\n"
      ],
      "execution_count": null,
      "outputs": []
    },
    {
      "cell_type": "code",
      "metadata": {
        "id": "rBPEqumuZ0aG"
      },
      "source": [
        "# test the model on an image\n",
        "!./darknet detector test data/obj.data cfg/yolov3_custom2.cfg /mydrive/yolov3/backup/yolov3_custom2_last.weights /mydrive/yolov3/images/rollovertest.jpg -thresh 0.3\n",
        "imShow('predictions.jpg')"
      ],
      "execution_count": null,
      "outputs": []
    }
  ]
}